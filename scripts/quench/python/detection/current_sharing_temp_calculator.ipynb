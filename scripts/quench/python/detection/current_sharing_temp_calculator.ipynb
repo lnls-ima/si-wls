{
 "cells": [
  {
   "cell_type": "code",
   "execution_count": 1,
   "id": "5eadd192-73a3-4a1a-b3b1-d0a19cc2ca97",
   "metadata": {},
   "outputs": [],
   "source": [
    "%matplotlib qt \n",
    "import matplotlib.pyplot as plt\n",
    "import numpy as np\n",
    "from math import pi, sqrt"
   ]
  },
  {
   "cell_type": "code",
   "execution_count": 2,
   "id": "0915b1c3-556c-4220-b2de-b461bb21ebe2",
   "metadata": {},
   "outputs": [],
   "source": [
    "alpha = 0.57\n",
    "beta = 0.9\n",
    "gamma = 2.32\n",
    "\n",
    "Jcref = 3000  # A/mm²\n",
    "Bc20 = 14.5\n",
    "Tc0 = 9.2\n",
    "C0 = 27.04\n",
    "\n",
    "\n",
    "def calc_Jc(B,T):\n",
    "    t = T/Tc0\n",
    "    Bc2 = Bc20*(1-pow(t,1.7))\n",
    "    B = np.clip(B,0,Bc2)\n",
    "    b = B/Bc2\n",
    "    \n",
    "    return Jcref*C0 * pow(B,alpha-1) / (pow(Bc2,alpha)) * pow(1-b,beta) * pow(1-pow(t,1.7), gamma)\n",
    "\n",
    "def init_critical_surface():\n",
    "    B = np.arange(1,Bc20,1)\n",
    "    B = np.insert(B,0,0.1)\n",
    "    T = np.arange(0,Tc0,0.1)\n",
    "    \n",
    "    Tcs_data = {}\n",
    "    \n",
    "    for b in B:\n",
    "        Jc = [calc_Jc(b,t) for t in T]\n",
    "        Tcs_data[b] = {}\n",
    "        Tcs_data[b]['Jc'] = Jc\n",
    "        Tcs_data[b]['T'] = T\n",
    "        \n",
    "    return Tcs_data\n",
    "\n",
    "def calc_current_sharing_temp(Jc,B):\n",
    "    tcs = init_critical_surface()\n",
    "    return np.interp(B, list(tcs.keys()),\n",
    "                     [np.interp(Jc, np.flip(tcs[b]['Jc']), np.flip(tcs[b]['T'])) for b in tcs.keys()])"
   ]
  },
  {
   "cell_type": "code",
   "execution_count": 3,
   "id": "78ec4560-c359-4f4e-afee-b96637a4719e",
   "metadata": {},
   "outputs": [
    {
     "name": "stdout",
     "output_type": "stream",
     "text": [
      "1.3157894736842106 1042.1052631578948\n",
      "7.6936507301469 8.44682536507345\n"
     ]
    }
   ],
   "source": [
    "Iop = 300\n",
    "Bop = 1\n",
    "\n",
    "B = Iop * Bop/228\n",
    "Jc = 792.0*Iop/228\n",
    "\n",
    "print(B,Jc)\n",
    "\n",
    "Tcs = calc_current_sharing_temp(Jc,B)\n",
    "Tjoule = (Tcs+Tc0)/2\n",
    "\n",
    "print(Tcs,Tjoule)"
   ]
  },
  {
   "cell_type": "code",
   "execution_count": 4,
   "id": "9361939e-3b33-44c7-a597-4b9c255e88bc",
   "metadata": {},
   "outputs": [
    {
     "data": {
      "text/plain": [
       "Text(0.5, 0, 'Critical current density [kA/mm²]')"
      ]
     },
     "execution_count": 4,
     "metadata": {},
     "output_type": "execute_result"
    }
   ],
   "source": [
    "from mpl_toolkits import mplot3d\n",
    "\n",
    "B = np.arange(1,Bc20,1)\n",
    "B = np.insert(B,0,0.5)\n",
    "T = np.arange(0,Tc0,0.5)\n",
    "Bm,Tm = np.meshgrid(B,T)\n",
    "Jc = calc_Jc(Bm,Tm)\n",
    "\n",
    "fig = plt.figure()\n",
    "ax = plt.axes(projection='3d')\n",
    "ax.plot_surface(Bm, Tm, Jc/1000, rstride=1, cstride=1, cmap='viridis', edgecolor='none')\n",
    "ax.set_xlabel('Field [T]')\n",
    "ax.set_ylabel('Temperature [K]')\n",
    "ax.set_zlabel('Critical current density [kA/mm²]')\n",
    "\n"
   ]
  },
  {
   "cell_type": "code",
   "execution_count": 69,
   "id": "a7e034d6-2e4d-4a14-9a3f-c1be208785a7",
   "metadata": {},
   "outputs": [],
   "source": [
    "B = np.arange(1.0,7.0,1)\n",
    "B = np.insert(B,0,0.1)\n",
    "T = np.arange(0,9.2,0.1)\n",
    "\n",
    "ratio = 0.92\n",
    "d_total = 0.856\n",
    "s_total = pi*(d_total/2)**2\n",
    "J_228 = 228*(ratio+1)/s_total\n",
    "J_300 = 300*(ratio+1)/s_total\n",
    "\n",
    "fig = plt.figure()\n",
    "for b in B:\n",
    "    Jcs = [calc_Jc(b,t) for t in T]\n",
    "    plt.plot(T,Jcs, label= 'B = {} T'.format(b) )\n",
    "\n",
    "plt.plot([0,10],[J_228,J_228],'--', label='Iop = 228 A')\n",
    "plt.plot([0,10],[J_300,J_300],'--', label='Iop = 300 A')\n",
    "plt.grid()\n",
    "plt.xlabel('Temperature [K]')\n",
    "plt.legend()\n",
    "plt.ylabel('Critical current density [A/mm²]')\n",
    "plt.ylim(0,5000)\n",
    "plt.show()\n",
    "\n"
   ]
  },
  {
   "cell_type": "code",
   "execution_count": null,
   "id": "26629da4-cf20-470d-a0a0-066ede39b7e5",
   "metadata": {},
   "outputs": [],
   "source": [
    "B = np.arange(1,15,0.1)\n",
    "B = np.insert(B,0,0.5)\n",
    "T = np.arange(4,7,1)\n",
    "\n",
    "fig = plt.figure()\n",
    "\n",
    "for t in T:\n",
    "    Jcs = [calc_Jc(b,t) for b in B]\n",
    "    plt.plot(B,Jcs, label= 'T = {} K'.format(t) )\n",
    "    \n",
    "plt.grid()\n",
    "plt.xlabel('Field [T]')\n",
    "plt.legend()\n",
    "plt.ylabel('Critical current density [A/mm²]')\n",
    "plt.ylim(0,5000)\n",
    "plt.show()"
   ]
  }
 ],
 "metadata": {
  "kernelspec": {
   "display_name": "Python 3.9.5 ('base')",
   "language": "python",
   "name": "python3"
  },
  "language_info": {
   "codemirror_mode": {
    "name": "ipython",
    "version": 3
   },
   "file_extension": ".py",
   "mimetype": "text/x-python",
   "name": "python",
   "nbconvert_exporter": "python",
   "pygments_lexer": "ipython3",
   "version": "3.9.5"
  },
  "vscode": {
   "interpreter": {
    "hash": "19d1d53a962d236aa061289c2ac16dc8e6d9648c89fe79f459ae9a3493bc67b4"
   }
  }
 },
 "nbformat": 4,
 "nbformat_minor": 5
}
